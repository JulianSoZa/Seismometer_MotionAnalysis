{
 "cells": [
  {
   "attachments": {},
   "cell_type": "markdown",
   "metadata": {},
   "source": [
    "Análisis de la respuesta del sismómetro "
   ]
  },
  {
   "cell_type": "code",
   "execution_count": 4,
   "metadata": {},
   "outputs": [
    {
     "name": "stdout",
     "output_type": "stream",
     "text": [
      "La constante de elasticidad es:  607.8655647432626\n",
      "La constante de amortiguamiento es:  3.6173393306838606\n",
      "La frecuencia angular natural es 215.4111220599328\n",
      "El factor de amortiguamiento es 0.6409436307049613\n"
     ]
    }
   ],
   "source": [
    "import numpy as np\n",
    "import serial\n",
    "import matplotlib.pyplot as plt\n",
    "from funtions import*\n",
    "\n",
    "#A1 = 407.42\n",
    "#A2 = 2.32\n",
    "\n",
    "A1 = 3.988\n",
    "A2 = 0.021\n",
    "\n",
    "t1 = 5.444\n",
    "t2 = 5.482\n",
    "\n",
    "mass = 0.0131\n",
    "\n",
    "constants_characterization(A1, A2, t1, t2, mass)\n"
   ]
  }
 ],
 "metadata": {
  "kernelspec": {
   "display_name": "Python 3",
   "language": "python",
   "name": "python3"
  },
  "language_info": {
   "codemirror_mode": {
    "name": "ipython",
    "version": 3
   },
   "file_extension": ".py",
   "mimetype": "text/x-python",
   "name": "python",
   "nbconvert_exporter": "python",
   "pygments_lexer": "ipython3",
   "version": "3.10.6"
  },
  "orig_nbformat": 4
 },
 "nbformat": 4,
 "nbformat_minor": 2
}
